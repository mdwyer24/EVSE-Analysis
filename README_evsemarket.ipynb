{
 "cells": [
  {
   "cell_type": "markdown",
   "metadata": {},
   "source": [
    "# EVSE Market Analysis\n",
    "This code is used to generate a quick overview of electric vehicle charging equipment (EVSE) installations using data from the Department of Energy's Alternative Fuel Data Center (AFDC) API. It compares the EVSE market to the previous two weeks of data that were pulled and analyzed in the same fashion. This EVSE market analysis is only one component of a weekly (on Wednesdays) news update; the other components include a web scraper and an electric vehicle market analysis (included once per month when sales numbers are released).\n",
    "\n",
    "## Getting Started\n",
    "The code expects two existing EVSE station/plug count files from the previous two Wednesdays. If these are not available - i.e. if this is the first/second time this has been run on a computer or if the files are not available for some other reason - the switch *test_run_switch* should be set to True."
   ]
  }
 ],
 "metadata": {
  "kernelspec": {
   "display_name": "Python 3",
   "language": "python",
   "name": "python3"
  },
  "language_info": {
   "codemirror_mode": {
    "name": "ipython",
    "version": 3
   },
   "file_extension": ".py",
   "mimetype": "text/x-python",
   "name": "python",
   "nbconvert_exporter": "python",
   "pygments_lexer": "ipython3",
   "version": "3.6.2"
  },
  "varInspector": {
   "cols": {
    "lenName": 16,
    "lenType": 16,
    "lenVar": 40
   },
   "kernels_config": {
    "python": {
     "delete_cmd_postfix": "",
     "delete_cmd_prefix": "del ",
     "library": "var_list.py",
     "varRefreshCmd": "print(var_dic_list())"
    },
    "r": {
     "delete_cmd_postfix": ") ",
     "delete_cmd_prefix": "rm(",
     "library": "var_list.r",
     "varRefreshCmd": "cat(var_dic_list()) "
    }
   },
   "types_to_exclude": [
    "module",
    "function",
    "builtin_function_or_method",
    "instance",
    "_Feature"
   ],
   "window_display": false
  }
 },
 "nbformat": 4,
 "nbformat_minor": 2
}
